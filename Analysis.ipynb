{
 "cells": [
  {
   "cell_type": "code",
   "execution_count": 324,
   "metadata": {},
   "outputs": [],
   "source": [
    "from nltk.corpus import wordnet as wn\n",
    "from lxml import etree\n",
    "import numpy as np\n",
    "import pandas as pd\n",
    "from os import path\n",
    "from collections import Counter\n",
    "from copy import deepcopy"
   ]
  },
  {
   "cell_type": "code",
   "execution_count": 429,
   "metadata": {},
   "outputs": [
    {
     "data": {
      "text/plain": [
       "Index(['alco-soft', 'alco-soft-bw', 'alco', 'noalco-fruits-juices-j_sweet',\n",
       "       'noalco-fruits-juices-j_citric', 'noalco-fruits-solid-s_sweet',\n",
       "       'noalco-fruits-solid-s_citric', 'noalco-veggies',\n",
       "       'noalco-fruits-syrups-j_sweet', 'te-sweet', 'te', 'others',\n",
       "       'Unnamed: 12'],\n",
       "      dtype='object')"
      ]
     },
     "execution_count": 429,
     "metadata": {},
     "output_type": "execute_result"
    }
   ],
   "source": [
    "taxonomy = pd.read_csv('taxonomy.csv', header=0)\n",
    "taxonomy.columns"
   ]
  },
  {
   "cell_type": "code",
   "execution_count": 355,
   "metadata": {},
   "outputs": [],
   "source": [
    "global taxonomy_scheme\n",
    "global all_ingredients\n",
    "global df_pmi\n",
    "global df_preferences\n",
    "global taxonomy_general_cat\n",
    "taxonomy_scheme = {\n",
    "    ('alco', 'soft', 'bw'): [],\n",
    "    ('alco', 'soft'): [],\n",
    "    ('alco', ): [],\n",
    "    ('noalco', 'fruits', 'juices', 'j_sweet'): [],\n",
    "    ('noalco', 'fruits', 'juices', 'j_citric'): [],\n",
    "    ('noalco', 'fruits', 'solid', 's_sweet'): [],\n",
    "    ('noalco', 'fruits', 'solid', 's_citric'): [],\n",
    "    ('noalco', 'veggies'): [],\n",
    "    ('noalco', 'fruits', 'syrups', 'j_sweet'): [],\n",
    "    ('te', 'sweet'): [],\n",
    "    ('te',): [],\n",
    "    ('others',): []\n",
    "}\n",
    "\n",
    "taxonomy_general_cat = [\n",
    " 'alco', 'noalco', 'te', 'others'\n",
    "]"
   ]
  },
  {
   "cell_type": "code",
   "execution_count": 576,
   "metadata": {},
   "outputs": [
    {
     "data": {
      "text/plain": [
       "True"
      ]
     },
     "execution_count": 576,
     "metadata": {},
     "output_type": "execute_result"
    }
   ],
   "source": [
    "'strawberry juice' in all_ingredients"
   ]
  },
  {
   "cell_type": "code",
   "execution_count": 577,
   "metadata": {},
   "outputs": [],
   "source": [
    "light_martini = {'Light cocktail martini': {\n",
    "   ('alco', 'soft', 'bw'): [],\n",
    "   ('alco', 'soft'): [],\n",
    "   ('alco', ): ['red martini'],\n",
    "   ('noalco', 'fruits', 'juices', 'j_sweet'): ['manguo juice', 'strawberry juice'],\n",
    "   ('noalco', 'fruits', 'juices', 'j_citric'): [],\n",
    "   ('noalco', 'fruits', 'solid', 's_sweet'): [],\n",
    "   ('noalco', 'fruits', 'solid', 's_citric'): ['lime'],\n",
    "   ('noalco', 'veggies'): ['mint'],\n",
    "   ('noalco', 'fruits', 'syrups', 'j_sweet'): [],\n",
    "   ('te', 'sweet'): ['sugar'],\n",
    "   ('te',): [],\n",
    "   #('others',): ['sparkling mineral water']}\n",
    "   ('others',): []} \n",
    "}"
   ]
  },
  {
   "cell_type": "code",
   "execution_count": 430,
   "metadata": {},
   "outputs": [],
   "source": [
    "from copy import deepcopy\n",
    "def read_data():\n",
    "    # read\n",
    "    taxonomy = pd.read_csv('taxonomy.csv', header=0)\n",
    "    tree = etree.parse('ccc_cocktails.xml')\n",
    "\n",
    "    recipes = tree.findall('recipe')\n",
    "    titles = []\n",
    "    all_ingredients = []\n",
    "    cocktails = {}\n",
    "    for recipe in recipes:\n",
    "        title = recipe[0].text\n",
    "        titles.append(title)\n",
    "        ingredients = recipe[1]\n",
    "        ingredients_list = deepcopy(taxonomy_scheme)\n",
    "        for ingredient in ingredients:\n",
    "            ingredient_val = ingredient.values()[-1].lower()\n",
    "            all_ingredients.append(ingredient_val)\n",
    "            for col in taxonomy.columns:\n",
    "                col_tup = tuple(col.split('-'))\n",
    "\n",
    "                if taxonomy[col].isin([ingredient_val]).any():\n",
    "                    ingredients_list[col_tup].append(ingredient_val)\n",
    "\n",
    "        cocktails[title] = ingredients_list\n",
    "    return all_ingredients, cocktails"
   ]
  },
  {
   "cell_type": "code",
   "execution_count": 431,
   "metadata": {},
   "outputs": [],
   "source": [
    "all_ingredients, cocktails = read_data()"
   ]
  },
  {
   "cell_type": "markdown",
   "metadata": {},
   "source": [
    "## Similarities preferences"
   ]
  },
  {
   "cell_type": "code",
   "execution_count": 330,
   "metadata": {},
   "outputs": [
    {
     "data": {
      "text/html": [
       "<div>\n",
       "<style scoped>\n",
       "    .dataframe tbody tr th:only-of-type {\n",
       "        vertical-align: middle;\n",
       "    }\n",
       "\n",
       "    .dataframe tbody tr th {\n",
       "        vertical-align: top;\n",
       "    }\n",
       "\n",
       "    .dataframe thead th {\n",
       "        text-align: right;\n",
       "    }\n",
       "</style>\n",
       "<table border=\"1\" class=\"dataframe\">\n",
       "  <thead>\n",
       "    <tr style=\"text-align: right;\">\n",
       "      <th></th>\n",
       "      <th>(alco, soft, bw)</th>\n",
       "      <th>(alco, soft)</th>\n",
       "      <th>(alco,)</th>\n",
       "      <th>(noalco, fruits, juices, j_sweet)</th>\n",
       "      <th>(noalco, fruits, juices, j_citric)</th>\n",
       "      <th>(noalco, fruits, solid, s_sweet)</th>\n",
       "      <th>(noalco, fruits, solid, s_citric)</th>\n",
       "      <th>(noalco, veggies)</th>\n",
       "      <th>(noalco, fruits, syrups, j_sweet)</th>\n",
       "      <th>(te, sweet)</th>\n",
       "      <th>(te,)</th>\n",
       "      <th>(others,)</th>\n",
       "    </tr>\n",
       "  </thead>\n",
       "  <tbody>\n",
       "    <tr>\n",
       "      <th>alco</th>\n",
       "      <td>0.85</td>\n",
       "      <td>0.90</td>\n",
       "      <td>1.0</td>\n",
       "      <td>0.70</td>\n",
       "      <td>0.7</td>\n",
       "      <td>0.70</td>\n",
       "      <td>0.70</td>\n",
       "      <td>0.75</td>\n",
       "      <td>0.75</td>\n",
       "      <td>0.70</td>\n",
       "      <td>0.80</td>\n",
       "      <td>0.85</td>\n",
       "    </tr>\n",
       "    <tr>\n",
       "      <th>sweet</th>\n",
       "      <td>0.90</td>\n",
       "      <td>0.95</td>\n",
       "      <td>0.8</td>\n",
       "      <td>0.85</td>\n",
       "      <td>0.5</td>\n",
       "      <td>0.90</td>\n",
       "      <td>0.65</td>\n",
       "      <td>0.50</td>\n",
       "      <td>1.00</td>\n",
       "      <td>1.00</td>\n",
       "      <td>0.80</td>\n",
       "      <td>0.80</td>\n",
       "    </tr>\n",
       "    <tr>\n",
       "      <th>sour</th>\n",
       "      <td>0.80</td>\n",
       "      <td>0.60</td>\n",
       "      <td>0.8</td>\n",
       "      <td>0.70</td>\n",
       "      <td>1.0</td>\n",
       "      <td>0.75</td>\n",
       "      <td>1.00</td>\n",
       "      <td>0.80</td>\n",
       "      <td>0.60</td>\n",
       "      <td>0.60</td>\n",
       "      <td>0.85</td>\n",
       "      <td>0.80</td>\n",
       "    </tr>\n",
       "    <tr>\n",
       "      <th>tutti-frutti</th>\n",
       "      <td>0.85</td>\n",
       "      <td>0.90</td>\n",
       "      <td>0.7</td>\n",
       "      <td>1.00</td>\n",
       "      <td>1.0</td>\n",
       "      <td>1.00</td>\n",
       "      <td>1.00</td>\n",
       "      <td>0.70</td>\n",
       "      <td>0.90</td>\n",
       "      <td>0.65</td>\n",
       "      <td>0.70</td>\n",
       "      <td>0.85</td>\n",
       "    </tr>\n",
       "    <tr>\n",
       "      <th>default</th>\n",
       "      <td>1.00</td>\n",
       "      <td>1.00</td>\n",
       "      <td>1.0</td>\n",
       "      <td>1.00</td>\n",
       "      <td>1.0</td>\n",
       "      <td>1.00</td>\n",
       "      <td>1.00</td>\n",
       "      <td>1.00</td>\n",
       "      <td>1.00</td>\n",
       "      <td>1.00</td>\n",
       "      <td>1.00</td>\n",
       "      <td>1.00</td>\n",
       "    </tr>\n",
       "  </tbody>\n",
       "</table>\n",
       "</div>"
      ],
      "text/plain": [
       "              (alco, soft, bw)  (alco, soft)  (alco,)  \\\n",
       "alco                      0.85          0.90      1.0   \n",
       "sweet                     0.90          0.95      0.8   \n",
       "sour                      0.80          0.60      0.8   \n",
       "tutti-frutti              0.85          0.90      0.7   \n",
       "default                   1.00          1.00      1.0   \n",
       "\n",
       "              (noalco, fruits, juices, j_sweet)  \\\n",
       "alco                                       0.70   \n",
       "sweet                                      0.85   \n",
       "sour                                       0.70   \n",
       "tutti-frutti                               1.00   \n",
       "default                                    1.00   \n",
       "\n",
       "              (noalco, fruits, juices, j_citric)  \\\n",
       "alco                                         0.7   \n",
       "sweet                                        0.5   \n",
       "sour                                         1.0   \n",
       "tutti-frutti                                 1.0   \n",
       "default                                      1.0   \n",
       "\n",
       "              (noalco, fruits, solid, s_sweet)  \\\n",
       "alco                                      0.70   \n",
       "sweet                                     0.90   \n",
       "sour                                      0.75   \n",
       "tutti-frutti                              1.00   \n",
       "default                                   1.00   \n",
       "\n",
       "              (noalco, fruits, solid, s_citric)  (noalco, veggies)  \\\n",
       "alco                                       0.70               0.75   \n",
       "sweet                                      0.65               0.50   \n",
       "sour                                       1.00               0.80   \n",
       "tutti-frutti                               1.00               0.70   \n",
       "default                                    1.00               1.00   \n",
       "\n",
       "              (noalco, fruits, syrups, j_sweet)  (te, sweet)  (te,)  (others,)  \n",
       "alco                                       0.75         0.70   0.80       0.85  \n",
       "sweet                                      1.00         1.00   0.80       0.80  \n",
       "sour                                       0.60         0.60   0.85       0.80  \n",
       "tutti-frutti                               0.90         0.65   0.70       0.85  \n",
       "default                                    1.00         1.00   1.00       1.00  "
      ]
     },
     "execution_count": 330,
     "metadata": {},
     "output_type": "execute_result"
    }
   ],
   "source": [
    "cols = [\n",
    "        \n",
    "    ('alco', 'soft', 'bw'),\n",
    "    ('alco', 'soft'),\n",
    "    ('alco', ),\n",
    "    ('noalco', 'fruits', 'juices', 'j_sweet'),\n",
    "    ('noalco', 'fruits', 'juices', 'j_citric'),\n",
    "    ('noalco', 'fruits', 'solid', 's_sweet'),\n",
    "    ('noalco', 'fruits', 'solid', 's_citric'),\n",
    "    ('noalco', 'veggies'),\n",
    "    ('noalco', 'fruits', 'syrups', 'j_sweet'),\n",
    "    ('te', 'sweet'),\n",
    "    ('te',), \n",
    "    ('others',)\n",
    "]\n",
    "idx = ['alco', 'sweet', 'sour', 'tutti-frutti', 'default']\n",
    "\n",
    "alco_vals =  [0.85, 0.9, 1, 0.7, 0.7, 0.7, 0.7, 0.75, 0.75, 0.7, 0.8, 0.85]\n",
    "\n",
    "sweet_vals = [0.9, 0.95, 0.8, 0.85, 0.5, 0.9, 0.65, 0.5, 1, 1, 0.8, 0.8]\n",
    "\n",
    "sour_vals = [0.8, 0.6, 0.8, 0.7, 1, 0.75, 1, 0.8, 0.6, 0.6, 0.85, 0.8]\n",
    "\n",
    "frutti_vals = [0.85, 0.9, 0.7, 1, 1, 1, 1, 0.7, 0.9, 0.65, 0.7, 0.85]\n",
    "\n",
    "default = [1,1,1,1,1,1,1,1,1,1,1,1]\n",
    "df_preferences = pd.DataFrame(np.array([alco_vals, sweet_vals, sour_vals, frutti_vals, default]), columns=cols, index=idx)\n",
    "df_preferences"
   ]
  },
  {
   "cell_type": "code",
   "execution_count": 331,
   "metadata": {},
   "outputs": [
    {
     "data": {
      "text/plain": [
       "0.7"
      ]
     },
     "execution_count": 331,
     "metadata": {},
     "output_type": "execute_result"
    }
   ],
   "source": [
    "df_preferences[('noalco', 'fruits', 'solid', 's_citric')]['alco']"
   ]
  },
  {
   "cell_type": "markdown",
   "metadata": {},
   "source": [
    "## PMI table"
   ]
  },
  {
   "cell_type": "code",
   "execution_count": 332,
   "metadata": {},
   "outputs": [],
   "source": [
    "def constract_pmi_table():\n",
    "    unique_ingredients = set(all_ingredients)\n",
    "    df_pmi = pd.DataFrame(0, columns=unique_ingredients, index=unique_ingredients)\n",
    "    for recipe in recipes:\n",
    "        title = recipe[0].text\n",
    "        titles.append(title)\n",
    "        ingredients = recipe[1]\n",
    "        for ingredient_row in ingredients:\n",
    "            ingredient_val_row = ingredient_row.values()[-1].lower()\n",
    "            for ingredient_col in ingredients:\n",
    "                ingredient_val_col = ingredient_col.values()[-1].lower()\n",
    "                if ingredient_val_row != ingredient_val_col:\n",
    "                    df_pmi.loc[ingredient_val_row, ingredient_val_col] += 1\n",
    "    return df_pmi"
   ]
  },
  {
   "cell_type": "code",
   "execution_count": 333,
   "metadata": {},
   "outputs": [],
   "source": [
    "df_pmi = constract_pmi_table()"
   ]
  },
  {
   "cell_type": "code",
   "execution_count": 334,
   "metadata": {},
   "outputs": [
    {
     "name": "stdout",
     "output_type": "stream",
     "text": [
      "PMI table 0\n",
      "fij 1\n",
      "fifj 1121\n"
     ]
    },
    {
     "data": {
      "text/plain": [
       "1.6931311329170384"
      ]
     },
     "execution_count": 334,
     "metadata": {},
     "output_type": "execute_result"
    }
   ],
   "source": [
    "from math import log\n",
    "def pmi_score(ingredient1, ingredient2, df_pmi):\n",
    "    fij = df_pmi.loc[ingredient1, ingredient2]\n",
    "    fi = df_pmi.loc[ingredient1, :].sum()\n",
    "    fj = df_pmi.loc[ingredient2, :].sum()\n",
    "    sum_all = df_pmi.values.sum()\n",
    "    print('fij', fij)\n",
    "    print('fifj', fi*fj)\n",
    "    p = fij/(fi*fj/sum_all)\n",
    "    '''\n",
    "    pmi = log(p, 2)\n",
    "    if pmi < 0:\n",
    "        pmi = 0\n",
    "    return pmi, p\n",
    "    '''\n",
    "    return p\n",
    "print('PMI table', df_pmi.loc['tequila', 'lemon'])\n",
    "pmi_score('tequila', 'lime', df_pmi)"
   ]
  },
  {
   "cell_type": "code",
   "execution_count": 672,
   "metadata": {},
   "outputs": [],
   "source": [
    "def get_cocktail_ingredient_list(cocktail):\n",
    "    ingredient_list = []\n",
    "    categories_list = []\n",
    "    for cat in taxonomy_scheme.keys():\n",
    "        for ingredient in cocktail[cat]:\n",
    "            categories_list.append(cat)\n",
    "            ingredient_list.append(ingredient)\n",
    "    return categories_list, ingredient_list"
   ]
  },
  {
   "cell_type": "code",
   "execution_count": 671,
   "metadata": {
    "scrolled": false
   },
   "outputs": [
    {
     "name": "stdout",
     "output_type": "stream",
     "text": [
      "['red martini', 'manguo juice', 'strawberry juice', 'lime', 'mint', 'sugar']\n",
      "0.7516666666666666\n",
      "['red martini', 'manguo juice', 'strawberry juice', 'lime', 'mint', 'sugar']\n",
      "0.9333333333333333\n"
     ]
    }
   ],
   "source": [
    "from itertools import combinations\n",
    "def get_cocktail_pmi(cocktail, preference=''):\n",
    "    # cocktail pmi\n",
    "    catetgory_list, ingridient_list = get_cocktail_ingredient_list(cocktail)\n",
    "    pmi_score = 0\n",
    "    c_combos = 0\n",
    "    \n",
    "    for ingredient1_tup, ingredient2_tup in combinations(zip(catetgory_list, ingridient_list), 2):\n",
    "        ingredient1 = ingredient1_tup[1]\n",
    "        ingredient2 = ingredient2_tup[1]\n",
    "        if preference:\n",
    "            cat1 = ingredient1_tup[0]\n",
    "            cat2 = ingredient2_tup[0]\n",
    "            w = (df_preferences[cat1][preference] + df_preferences[cat2][preference])/2\n",
    "        else:\n",
    "            w = 1\n",
    "        pmi_score += df_pmi.loc[ingredient1, ingredient2] * w\n",
    "        c_combos += 1\n",
    "    return pmi_score/c_combos\n",
    "\n",
    "print(get_cocktail_pmi(light_martini['Light cocktail martini'], preference='tutti-frutti'))\n",
    "print(get_cocktail_pmi(light_martini['Light cocktail martini'], preference=''))"
   ]
  },
  {
   "cell_type": "code",
   "execution_count": 152,
   "metadata": {},
   "outputs": [
    {
     "data": {
      "text/plain": [
       "{'Light cocktail martini': {('liquid', 'alcohol', 'soft', 'bw'): [],\n",
       "  ('liquid', 'alcohol', 'soft'): [],\n",
       "  ('liquid', 'alcohol'): ['red martini'],\n",
       "  ('liquid', 'juices'): [],\n",
       "  ('liquid', 'juices', 'citric'): [],\n",
       "  ('solid', 'fruits'): [],\n",
       "  ('solid', 'fruits', 'citric'): ['lime'],\n",
       "  ('solid', 'veggies'): ['mint'],\n",
       "  ('te', 'syrups'): [],\n",
       "  ('te', 'sweet'): ['sugar'],\n",
       "  ('te',): [],\n",
       "  ('others',): ['sparkling mineral water']}}"
      ]
     },
     "execution_count": 152,
     "metadata": {},
     "output_type": "execute_result"
    }
   ],
   "source": [
    "light_martini"
   ]
  },
  {
   "cell_type": "markdown",
   "metadata": {},
   "source": [
    "## Similarity in taxonomy"
   ]
  },
  {
   "cell_type": "code",
   "execution_count": 337,
   "metadata": {},
   "outputs": [],
   "source": [
    "# ingredient_tup => (cat1, cat2, cat3, ingredient)\n",
    "def taxonomy_score(ingredient_tup1, ingredient_tup2):\n",
    "    common_ancestors = set(ingredient_tup1).intersection(set(ingredient_tup2))\n",
    "    all_ancestors = set(ingredient_tup1).union(set(ingredient_tup2))\n",
    "    return len(common_ancestors)/len(all_ancestors)"
   ]
  },
  {
   "cell_type": "code",
   "execution_count": 338,
   "metadata": {},
   "outputs": [
    {
     "name": "stdout",
     "output_type": "stream",
     "text": [
      "0.25\n",
      "0.14285714285714285\n"
     ]
    }
   ],
   "source": [
    "print(taxonomy_score(('alcohol', 'vodka'), ('alcohol', 'soft', 'malibu')))\n",
    "print(taxonomy_score(('noalco', 'fruits', 'juices', 'j_citric', 'lemon juice'), ('noalco', 'veggie', 'mint')))"
   ]
  },
  {
   "cell_type": "markdown",
   "metadata": {},
   "source": [
    "## Match cocktails (retrieval)"
   ]
  },
  {
   "cell_type": "code",
   "execution_count": 510,
   "metadata": {},
   "outputs": [],
   "source": [
    "q = {\n",
    "    ('alco', 'soft', 'bw'): [],\n",
    "    ('alco', 'soft'): [],\n",
    "    ('alco', ): ['red martini'],\n",
    "    ('noalco', 'fruits', 'juices', 'j_sweet'): [],\n",
    "    ('noalco', 'fruits', 'juices', 'j_citric'): ['lemon juice'],\n",
    "    ('noalco', 'fruits', 'solid', 's_sweet'): [],\n",
    "    ('noalco', 'fruits', 'solid', 's_citric'): ['lime', 'orange'],\n",
    "    ('noalco', 'veggies'): [],\n",
    "    ('noalco', 'fruits', 'syrups', 'j_sweet'): [],\n",
    "    ('te', 'sweet'): [],\n",
    "    ('te',): [],\n",
    "    ('others',): ['ice cube']\n",
    "}"
   ]
  },
  {
   "cell_type": "code",
   "execution_count": 544,
   "metadata": {},
   "outputs": [],
   "source": [
    "def transform(cocktail):\n",
    "    categories = list(taxonomy_scheme.keys())\n",
    "    new_form = {}\n",
    "    for cat in categories:\n",
    "        for ingredient in cocktail[cat]:\n",
    "            ingredient_cat = tuple(list(cat) + [ingredient])\n",
    "            new_form.setdefault(cat[0], []).append(ingredient_cat)\n",
    "        if not cocktail[cat]:\n",
    "            new_form.setdefault(cat[0], [])\n",
    "    return new_form"
   ]
  },
  {
   "cell_type": "code",
   "execution_count": 545,
   "metadata": {},
   "outputs": [
    {
     "data": {
      "text/plain": [
       "{'alco': [('alco', 'red martini')],\n",
       " 'noalco': [('noalco', 'fruits', 'solid', 's_citric', 'lime'),\n",
       "  ('noalco', 'veggies', 'mint')],\n",
       " 'te': [('te', 'sweet', 'sugar')],\n",
       " 'others': []}"
      ]
     },
     "execution_count": 545,
     "metadata": {},
     "output_type": "execute_result"
    }
   ],
   "source": [
    "transform(light_martini['Light cocktail martini'])"
   ]
  },
  {
   "cell_type": "code",
   "execution_count": 546,
   "metadata": {},
   "outputs": [
    {
     "data": {
      "text/plain": [
       "{'alco': [('alco', 'red martini')],\n",
       " 'noalco': [('noalco', 'fruits', 'juices', 'j_citric', 'lemon juice'),\n",
       "  ('noalco', 'fruits', 'solid', 's_citric', 'lime'),\n",
       "  ('noalco', 'fruits', 'solid', 's_citric', 'orange')],\n",
       " 'te': [],\n",
       " 'others': [('others', 'ice cube')]}"
      ]
     },
     "execution_count": 546,
     "metadata": {},
     "output_type": "execute_result"
    }
   ],
   "source": [
    "transform(q)"
   ]
  },
  {
   "cell_type": "code",
   "execution_count": 342,
   "metadata": {},
   "outputs": [],
   "source": [
    "def exactMatchCocktails(q_ingredients_list, cocktails, preference='alco'):\n",
    "    res = {}\n",
    "    categories = list(taxonomy_scheme.keys())\n",
    "    for title in cocktails.keys():\n",
    "        cocktail = cocktails[title]\n",
    "        \n",
    "        matches = deepcopy(taxonomy_scheme)\n",
    "        c_matches = 0\n",
    "        sim_matches = 0\n",
    "        for cat in categories:\n",
    "            for q_ingredient in q_ingredients_list[cat]:\n",
    "                if q_ingredient in cocktail[cat]:\n",
    "                    matches[cat] = q_ingredient\n",
    "                    sim_matches += df_preferences[cat][preference]\n",
    "            \n",
    "        res[title] = (sim_matches, matches)\n",
    "    return res"
   ]
  },
  {
   "cell_type": "code",
   "execution_count": 343,
   "metadata": {},
   "outputs": [],
   "source": [
    "def matchCocktails2(q_ingredients_list, cocktails, preference='alco'):\n",
    "    res = {}\n",
    "    categories = list(taxonomy_scheme.keys())\n",
    "    for title in cocktails.keys():\n",
    "        cocktail = cocktails[title]\n",
    "        \n",
    "        matches = deepcopy(taxonomy_scheme)\n",
    "        sim_matches = 0\n",
    "        for cat in categories:\n",
    "            #print('cat', cat)\n",
    "            w = df_preferences[cat][preference]\n",
    "            for q_ingredient in q_ingredients_list[cat]:\n",
    "                q_ingredient_cat = tuple(list(cat) + [q_ingredient])\n",
    "                c_matches = 0\n",
    "                #print('q', q_ingredient)\n",
    "                for d_ingredient in cocktail[cat]:\n",
    "                    #print('d', d_ingredient)\n",
    "                    d_ingredient_cat = tuple(list(cat) + [d_ingredient])\n",
    "                    sim_matches += (taxonomy_score(q_ingredient_cat, d_ingredient_cat) * w)\n",
    "                    c_matches += 1\n",
    "                #print('sim', taxonomy_score(q_ingredient_cat, d_ingredient_cat))\n",
    "                #print('c', c_matches)\n",
    "                if c_matches:\n",
    "                    sim_matches /= c_matches\n",
    "            #print()\n",
    "        res[title] = (sim_matches, cocktail)\n",
    "\n",
    "    return res"
   ]
  },
  {
   "cell_type": "code",
   "execution_count": 397,
   "metadata": {},
   "outputs": [],
   "source": [
    "def matchCocktails(q_ingredients_list, cocktails, preference='default'):\n",
    "    res = {}\n",
    "    categories = list(taxonomy_scheme.keys())\n",
    "    for title in cocktails.keys():\n",
    "        cocktail = cocktails[title]\n",
    "        cocktail_form = transform(cocktail)\n",
    "        query_form = transform(q_ingredients_list)\n",
    "        sim = 0\n",
    "        for gen_cat in taxonomy_general_cat:\n",
    "            for q_ingredient_cat in query_form[gen_cat]:\n",
    "                sim_gen_cat = 0\n",
    "                c_gen_cat = 0\n",
    "                # if the same ingredient exists in the cocktail\n",
    "                # assign a similarity of one and don't investigate further\n",
    "                if q_ingredient_cat in cocktail_form[gen_cat]:\n",
    "                    sim_gen_cat = 1\n",
    "                    c_gen_cat = 1\n",
    "                else:\n",
    "                    for d_ingredient_cat in cocktail_form[gen_cat]:\n",
    "                        q_cat = q_ingredient_cat[:-1]\n",
    "                        d_cat = d_ingredient_cat[:-1]\n",
    "                        w = (df_preferences[q_cat][preference] + df_preferences[d_cat][preference])/2\n",
    "                        sim_gen_cat += (taxonomy_score(q_ingredient_cat, d_ingredient_cat) * w)\n",
    "                        c_gen_cat += 1\n",
    "                if c_gen_cat:\n",
    "                    sim += (sim_gen_cat/c_gen_cat)\n",
    "        res[title] = (sim, cocktail) \n",
    "    return res"
   ]
  },
  {
   "cell_type": "code",
   "execution_count": 398,
   "metadata": {},
   "outputs": [],
   "source": [
    "def get_matches(q, cocktails, top_n=2):\n",
    "    #matches = exactMatchCocktails(q, cocktails)\n",
    "    matches = matchCocktails(q, cocktails)\n",
    "    titles_sort = sorted(matches, key=lambda x: matches[x][0], reverse=True )\n",
    "    max_val = matches[titles_sort[0]][0]\n",
    "    final_match = {}\n",
    "    sim_match = {}\n",
    "    #top_n = 4\n",
    "    c_top = 0\n",
    "    for title in titles_sort:\n",
    "        if c_top < top_n: #matches[title][0] == max_val or\n",
    "            final_match[title] = matches[title][1]\n",
    "            sim_match[title] = matches[title][0]\n",
    "            c_top += 1\n",
    "    return sim_match, final_match"
   ]
  },
  {
   "cell_type": "code",
   "execution_count": 656,
   "metadata": {},
   "outputs": [],
   "source": [
    "#sim_match, 1, q, 2, light_martini"
   ]
  },
  {
   "cell_type": "markdown",
   "metadata": {},
   "source": [
    "## Adaptation"
   ]
  },
  {
   "cell_type": "code",
   "execution_count": 701,
   "metadata": {},
   "outputs": [],
   "source": [
    "def adaptation(cocktails, q_ingredients_list, preference='default'):    \n",
    "    res = {}\n",
    "    categories = list(taxonomy_scheme.keys())\n",
    "    for title in cocktails.keys():\n",
    "        cocktail = cocktails[title]\n",
    "        cocktail_form = transform(cocktail)\n",
    "        query_form = transform(q_ingredients_list)\n",
    "        sim = 0\n",
    "        df_dict = {}\n",
    "        same_ingredients = []\n",
    "        q_extras = []\n",
    "        d_extras = []\n",
    "        cols = set()\n",
    "        idx = set()\n",
    "        ingredient2cat = {}\n",
    "        final_cocktails = []\n",
    "        final_cocktails_combo = []\n",
    "        #final_cocktails.append(cocktail)\n",
    "        for gen_cat in taxonomy_general_cat:\n",
    "            same_ingredients.extend(list(set(query_form[gen_cat]).intersection(set(cocktail_form[gen_cat]))))\n",
    "            query_form[gen_cat] = list(set(query_form[gen_cat]) - set(same_ingredients))\n",
    "            cocktail_form[gen_cat] = list(set(cocktail_form[gen_cat]) - set(same_ingredients))\n",
    "            if not cocktail_form[gen_cat]:\n",
    "                q_extras.extend(query_form[gen_cat])\n",
    "            if not query_form[gen_cat]:\n",
    "                d_extras.extend(cocktail_form[gen_cat])\n",
    "            \n",
    "            for q_ingredient_cat in query_form[gen_cat]:                   \n",
    "                for d_ingredient_cat in cocktail_form[gen_cat]:\n",
    "                    q_cat = q_ingredient_cat[:-1]\n",
    "                    d_cat = d_ingredient_cat[:-1]\n",
    "                    w = (df_preferences[q_cat][preference] + df_preferences[d_cat][preference])/2\n",
    "                    sim_gen_cat = taxonomy_score(q_cat, d_cat) * w\n",
    "\n",
    "                    #print(d_ingredient_cat[-1], q_ingredient_cat[-1], sim_gen_cat)\n",
    "                    cols.add(d_ingredient_cat)\n",
    "                    idx.add(q_ingredient_cat)\n",
    "                    ingredient2cat[d_ingredient_cat[-1]] = d_ingredient_cat[:-1]\n",
    "                    ingredient2cat[q_ingredient_cat[-1]] = q_ingredient_cat[:-1]\n",
    "                    df_dict.setdefault(d_ingredient_cat[-1], {})[q_ingredient_cat[-1]] = sim_gen_cat\n",
    "                    \n",
    "        df = pd.DataFrame(df_dict)\n",
    "        #print(df)\n",
    "        #print('extras', q_extras, d_extras)\n",
    "        # we change the one in the column with the max in the index\n",
    "        find_replacements = df.idxmax(axis=1)\n",
    "        \n",
    "        cocktail_add = deepcopy(cocktail)\n",
    "        cocktail_replace = deepcopy(cocktail)\n",
    "        for replace_to_ingr in find_replacements.index:\n",
    "            #print(replace_to_ingr)\n",
    "            replace_ingr = find_replacements[replace_to_ingr]\n",
    "            replace_ingr_cat = ingredient2cat[replace_ingr]\n",
    "            replace_to_ingr_cat = ingredient2cat[replace_to_ingr]\n",
    "            \n",
    "            # add the most similar ingredient\n",
    "            cocktail_add[replace_to_ingr_cat].append(replace_to_ingr)\n",
    "            \n",
    "            #print(replace_ingr_cat, cocktail_replace[replace_ingr_cat], replace_ingr)\n",
    "            # if cocktail ingredient had the same sim with another ingredient of the query just add it\n",
    "            if replace_ingr in cocktail_replace[replace_ingr_cat]:\n",
    "                cocktail_replace[replace_ingr_cat].remove(replace_ingr)\n",
    "            cocktail_replace[replace_to_ingr_cat].append(replace_to_ingr)\n",
    "            \n",
    "        final_cocktails.append(cocktail_add)\n",
    "        final_cocktails.append(cocktail_replace)\n",
    "        #pprint(final_cocktails)\n",
    "        final_cocktails_combo = []\n",
    "        for final_cocktail in final_cocktails:\n",
    "            for q_extra in q_extras:\n",
    "                cat = q_extra[:-1]\n",
    "                ingredient = q_extra[-1]\n",
    "                final_cocktail[cat].append(ingredient)\n",
    "            \n",
    "            for ind in range(1,len(d_extras)+1):\n",
    "                for combo in combinations(d_extras, ind):\n",
    "                    tmp_cocktail = deepcopy(final_cocktail)\n",
    "                    #print('combo', combo)\n",
    "                    for d_extra in combo:\n",
    "                        cat = d_extra[:-1]\n",
    "                        ingredient = d_extra[-1]\n",
    "                        tmp_cocktail[cat].remove(ingredient)\n",
    "                    final_cocktails_combo.append(tmp_cocktail)\n",
    "        final_cocktails.extend(final_cocktails_combo)\n",
    "        res[title] = final_cocktails\n",
    "    return res"
   ]
  },
  {
   "cell_type": "code",
   "execution_count": 702,
   "metadata": {},
   "outputs": [],
   "source": [
    "def find_best_adaptation(q, cocktails, cocktail_matches, preference=''):\n",
    "    final_cocktails = adaptation(cocktail_matches, q)\n",
    "    scores_max = []\n",
    "    scores_diff = []\n",
    "    for title in final_cocktails:\n",
    "        adapt_cocktails = final_cocktails[title]\n",
    "        cocktail_pmi = get_cocktail_pmi(cocktails[title])\n",
    "        adapt_cocktail_pmi_lst = np.array([])\n",
    "        for cocktail in adapt_cocktails:\n",
    "            adapt_cocktail_pmi = get_cocktail_pmi(cocktail, preference=preference)\n",
    "            adapt_cocktail_pmi_lst = np.append(adapt_cocktail_pmi_lst, adapt_cocktail_pmi)\n",
    "        diff = np.absolute(adapt_cocktail_pmi_lst - cocktail_pmi)\n",
    "        min_ind = diff.argmin()\n",
    "        max_ind = adapt_cocktail_pmi_lst.argmax()\n",
    "        scores_diff.append((diff[min_ind], title, adapt_cocktails[min_ind]))\n",
    "        scores_max.append((diff[max_ind], title, adapt_cocktails[max_ind]))\n",
    "    \n",
    "    return min(scores_diff), max(scores_max)"
   ]
  },
  {
   "cell_type": "code",
   "execution_count": 704,
   "metadata": {},
   "outputs": [
    {
     "data": {
      "text/plain": [
       "((0.21904761904761894,\n",
       "  'Negroni Cocktail',\n",
       "  {('alco', 'soft', 'bw'): [],\n",
       "   ('alco', 'soft'): [],\n",
       "   ('alco',): ['gin', 'angostura bitter', 'red martini'],\n",
       "   ('noalco', 'fruits', 'juices', 'j_sweet'): [],\n",
       "   ('noalco', 'fruits', 'juices', 'j_citric'): ['lemon juice'],\n",
       "   ('noalco', 'fruits', 'solid', 's_sweet'): [],\n",
       "   ('noalco', 'fruits', 'solid', 's_citric'): ['orange', 'lime'],\n",
       "   ('noalco', 'veggies'): [],\n",
       "   ('noalco', 'fruits', 'syrups', 'j_sweet'): [],\n",
       "   ('te', 'sweet'): [],\n",
       "   ('te',): [],\n",
       "   ('others',): ['ice cube']}),\n",
       " (1.2928571428571427,\n",
       "  'Cocktail Balalaika',\n",
       "  {('alco', 'soft', 'bw'): [],\n",
       "   ('alco', 'soft'): [],\n",
       "   ('alco',): ['vodka', 'cointreau', 'red martini'],\n",
       "   ('noalco', 'fruits', 'juices', 'j_sweet'): [],\n",
       "   ('noalco', 'fruits', 'juices', 'j_citric'): ['lemon juice'],\n",
       "   ('noalco', 'fruits', 'solid', 's_sweet'): [],\n",
       "   ('noalco', 'fruits', 'solid', 's_citric'): ['lemon', 'lime', 'orange'],\n",
       "   ('noalco', 'veggies'): [],\n",
       "   ('noalco', 'fruits', 'syrups', 'j_sweet'): [],\n",
       "   ('te', 'sweet'): [],\n",
       "   ('te',): [],\n",
       "   ('others',): ['ice cube']}))"
      ]
     },
     "execution_count": 704,
     "metadata": {},
     "output_type": "execute_result"
    }
   ],
   "source": [
    "top_n_matches = 3\n",
    "sim_match, cocktail_matches = get_matches(q, cocktails, top_n=top_n_matches)\n",
    "find_best_adaptation(q, cocktails, cocktail_matches, preference='default')"
   ]
  },
  {
   "cell_type": "markdown",
   "metadata": {},
   "source": [
    "## Dataset exploration"
   ]
  },
  {
   "cell_type": "code",
   "execution_count": 79,
   "metadata": {
    "scrolled": false
   },
   "outputs": [
    {
     "data": {
      "text/plain": [
       "(156,\n",
       " {'amber rum',\n",
       "  'angostura bitter',\n",
       "  'anise basil',\n",
       "  'apple',\n",
       "  'apple cider',\n",
       "  'apple juice',\n",
       "  'apple liqueur',\n",
       "  'apricot',\n",
       "  'apricot juice',\n",
       "  'apricot liqueur',\n",
       "  'banana',\n",
       "  'banana juice',\n",
       "  'beer',\n",
       "  'benedictine',\n",
       "  'berry',\n",
       "  'berry juice',\n",
       "  'blackcurrant',\n",
       "  'blood orange',\n",
       "  'blue curacao',\n",
       "  'blush wine',\n",
       "  'brown sugar',\n",
       "  'brown_sugar',\n",
       "  'cachaca',\n",
       "  'calvados',\n",
       "  'campari',\n",
       "  'cane sugar',\n",
       "  'cane sugar syrup',\n",
       "  'cava',\n",
       "  'celery salt',\n",
       "  'champagne',\n",
       "  'cherry',\n",
       "  'cherry juice',\n",
       "  'cinnamon',\n",
       "  'citrus fruit',\n",
       "  'clementine orange',\n",
       "  'coca-cola',\n",
       "  'coconut',\n",
       "  'coconut milk',\n",
       "  'coffee',\n",
       "  'coffee liqueur',\n",
       "  'cognac',\n",
       "  'cointreau',\n",
       "  'coriander',\n",
       "  'cranberry juice',\n",
       "  'cremant',\n",
       "  'creme de cafe',\n",
       "  'creme de cassis',\n",
       "  'crushed ice',\n",
       "  'cucumbers',\n",
       "  'currant',\n",
       "  'currant syrup',\n",
       "  'dark rum',\n",
       "  'dry white wine',\n",
       "  'egg',\n",
       "  'fruit',\n",
       "  'fruit syrup',\n",
       "  'get_27',\n",
       "  'gin',\n",
       "  'ginger',\n",
       "  'grand marnier',\n",
       "  'granulated sugar',\n",
       "  'grape juice',\n",
       "  'grapefruit',\n",
       "  'grapefruit juice',\n",
       "  'grenadine',\n",
       "  'guava juice',\n",
       "  'hard cider',\n",
       "  'ice cream',\n",
       "  'ice cube',\n",
       "  'juice',\n",
       "  'kirsch',\n",
       "  'kiwi fruit',\n",
       "  'kumquat',\n",
       "  'lemon',\n",
       "  'lemon juice',\n",
       "  'lemon liqueur',\n",
       "  'lemon slice',\n",
       "  'lemon syrup',\n",
       "  'lemon zest',\n",
       "  'lemonade',\n",
       "  'lemongrass',\n",
       "  'light whipping cream',\n",
       "  'lime',\n",
       "  'lime juice',\n",
       "  'lime zest',\n",
       "  'liqueur',\n",
       "  'litchi',\n",
       "  'litchi juice',\n",
       "  'litchi liqueur',\n",
       "  'malibu rum',\n",
       "  'mangalore',\n",
       "  'manguo juice',\n",
       "  'martini',\n",
       "  'melon',\n",
       "  'mint',\n",
       "  'mint syrup',\n",
       "  'multivitamin juice',\n",
       "  'noilly prat',\n",
       "  'nutmeg',\n",
       "  'orange',\n",
       "  'orange juice',\n",
       "  'orange syrup',\n",
       "  'orgeat',\n",
       "  'passion fruit juice',\n",
       "  'passion fruit syrup',\n",
       "  'pastis',\n",
       "  'peach juice',\n",
       "  'peach syrup',\n",
       "  'pear',\n",
       "  'pear juice',\n",
       "  'pear liqueur',\n",
       "  'pepper',\n",
       "  'pineapple',\n",
       "  'pineapple juice',\n",
       "  'pisang ambon',\n",
       "  'pistachio nut',\n",
       "  'plum brandy',\n",
       "  'porto',\n",
       "  'powdered sugar',\n",
       "  'prosecco',\n",
       "  'raspberry',\n",
       "  'red martini',\n",
       "  'rice milk',\n",
       "  'rice wine',\n",
       "  'rum',\n",
       "  'salt',\n",
       "  'sangria syrup',\n",
       "  'schweppes',\n",
       "  'soda water',\n",
       "  'soft drink',\n",
       "  'sour cream',\n",
       "  'sparkling mineral water',\n",
       "  'sparkling water',\n",
       "  'sparkling wine',\n",
       "  'stout',\n",
       "  'strawberry',\n",
       "  'strawberry juice',\n",
       "  'strawberry syrup',\n",
       "  'sugar',\n",
       "  'syrup',\n",
       "  'tabasco sauce',\n",
       "  'tamarin juice',\n",
       "  'tequila',\n",
       "  'tomato juice',\n",
       "  'triple sec',\n",
       "  'vanilla sugar',\n",
       "  'vermouth',\n",
       "  'vodka',\n",
       "  'wasabi',\n",
       "  'water',\n",
       "  'whiskey',\n",
       "  'white martini',\n",
       "  'white rum',\n",
       "  'white wine',\n",
       "  'whole milk',\n",
       "  'worcestershire sauce'})"
      ]
     },
     "execution_count": 79,
     "metadata": {},
     "output_type": "execute_result"
    }
   ],
   "source": [
    "len(unique_ingredients), unique_ingredients"
   ]
  },
  {
   "cell_type": "markdown",
   "metadata": {},
   "source": [
    "## Check similarity with wordnet"
   ]
  },
  {
   "cell_type": "code",
   "execution_count": 167,
   "metadata": {},
   "outputs": [],
   "source": [
    "words_found = []\n",
    "words_notfound = []\n",
    "for w in unique_ingredients:\n",
    "    syn = wn.synsets(w)\n",
    "    if not syn:\n",
    "        words_notfound.append(w)\n",
    "    else:\n",
    "        words_found.append(w)\n"
   ]
  },
  {
   "cell_type": "code",
   "execution_count": 168,
   "metadata": {},
   "outputs": [
    {
     "data": {
      "text/plain": [
       "(102, 55)"
      ]
     },
     "execution_count": 168,
     "metadata": {},
     "output_type": "execute_result"
    }
   ],
   "source": [
    "len(words_notfound), len(words_found)"
   ]
  },
  {
   "cell_type": "code",
   "execution_count": 169,
   "metadata": {},
   "outputs": [
    {
     "name": "stdout",
     "output_type": "stream",
     "text": [
      "noilly_prat\n",
      "brown_sugar\n",
      "get_27\n"
     ]
    }
   ],
   "source": [
    "# split the multi-word ingredients\n",
    "ingredient_words = []\n",
    "for ingr in all_ingredients:\n",
    "    if '_' in ingr:\n",
    "        print(ingr)\n",
    "        ingr = ingr.replace('_',' ')\n",
    "    if ingr == 'get_27':\n",
    "        ingr = 'get27'\n",
    "    elif ingr == 'manguo juice':\n",
    "        ingr = 'mango juice'\n",
    "    #elif ingr == 'cachaça':\n",
    "    #    ingr = 'cachaca'\n",
    "    ingredient_words.extend(ingr.split())"
   ]
  },
  {
   "cell_type": "code",
   "execution_count": 170,
   "metadata": {},
   "outputs": [],
   "source": [
    "def w2v_get_weights(words, n_words, emb_dim, w2v_model):\n",
    "    c = 0\n",
    "    not_found = []\n",
    "    embedding_matrix = np.zeros((n_words, emb_dim))\n",
    "    for i, word in enumerate(words):\n",
    "        try:\n",
    "            embedding_vector = w2v_model.wv[word]\n",
    "        except KeyError:\n",
    "            embedding_vector = None\n",
    "        if embedding_vector is not None:\n",
    "            embedding_matrix[i] = embedding_vector\n",
    "        else:\n",
    "            c += 1\n",
    "            not_found.append(word)\n",
    "    print(c, 'were not found')\n",
    "    return embedding_matrix, not_found"
   ]
  },
  {
   "cell_type": "code",
   "execution_count": 171,
   "metadata": {
    "scrolled": false
   },
   "outputs": [],
   "source": [
    "from gensim.models import KeyedVectors\n",
    "from gensim.scripts.glove2word2vec import glove2word2vec\n",
    "\n",
    "dir_folder = 'glove'\n",
    "glove_name = 'glove_42B_300d.txt'\n",
    "weights_file = path.join(dir_folder, glove_name.split('.')[0] + '.npy')\n",
    "glove_file = path.join(dir_folder, glove_name)\n",
    "emb_file = '2' + glove_name\n",
    "w2v_glove_file = path.join(dir_folder, emb_file)\n",
    "\n",
    "\n",
    "if not path.exists(w2v_glove_file):\n",
    "    glove2word2vec(glove_file, w2v_glove_file)\n",
    "\n",
    "if not path.exists(weights_file):\n",
    "    w2v_model = KeyedVectors.load_word2vec_format(w2v_glove_file, binary=False)\n",
    "    emb_weights, not_found = w2v_get_weights(ingredient_words,\n",
    "                                len(ingredient_words),\n",
    "                                300,\n",
    "                                w2v_model)\n",
    "    del w2v_model\n",
    "    np.save(path.join(dir_folder,weights_file), emb_weights)\n",
    "else:\n",
    "    emb_weights = np.load(weights_file)"
   ]
  },
  {
   "cell_type": "code",
   "execution_count": null,
   "metadata": {},
   "outputs": [],
   "source": [
    "# print embedding file\n",
    "embeddings_index = {}\n",
    "with open(path.join(dir_folder, glove_name)) as f:\n",
    "    for line in f:\n",
    "        values = line.split()\n",
    "        word = values[0]\n",
    "        coefs = np.asarray(values[1:], dtype='float32')\n",
    "        embeddings_index[word] = coefs"
   ]
  },
  {
   "cell_type": "code",
   "execution_count": 173,
   "metadata": {},
   "outputs": [
    {
     "data": {
      "text/plain": [
       "(781, 300)"
      ]
     },
     "execution_count": 173,
     "metadata": {},
     "output_type": "execute_result"
    }
   ],
   "source": [
    "emb_weights.shape"
   ]
  }
 ],
 "metadata": {
  "kernelspec": {
   "display_name": "Python 3",
   "language": "python",
   "name": "python3"
  },
  "language_info": {
   "codemirror_mode": {
    "name": "ipython",
    "version": 3
   },
   "file_extension": ".py",
   "mimetype": "text/x-python",
   "name": "python",
   "nbconvert_exporter": "python",
   "pygments_lexer": "ipython3",
   "version": "3.7.2"
  }
 },
 "nbformat": 4,
 "nbformat_minor": 2
}
