{
 "cells": [
  {
   "cell_type": "code",
   "execution_count": 1,
   "metadata": {},
   "outputs": [],
   "source": [
    "from nltk.corpus import wordnet as wn\n",
    "from lxml import etree\n",
    "import numpy as np\n",
    "import pandas as pd\n",
    "from os import path\n",
    "from collections import Counter"
   ]
  },
  {
   "cell_type": "code",
   "execution_count": 5,
   "metadata": {},
   "outputs": [
    {
     "data": {
      "text/plain": [
       "Index(['liquid-alcohol-sweet', 'liquid-alcohol', 'liquid-juices',\n",
       "       'liquid-juices-citric', 'liquid-syrups', 'solid-fruits',\n",
       "       'solid-fruits-citric', 'solid-veggies', 'te-sweet', 'te', 'others'],\n",
       "      dtype='object')"
      ]
     },
     "execution_count": 5,
     "metadata": {},
     "output_type": "execute_result"
    }
   ],
   "source": [
    "taxonomy = pd.read_csv('taxonomy.csv', header=0)\n",
    "taxonomy.columns"
   ]
  },
  {
   "cell_type": "code",
   "execution_count": 23,
   "metadata": {},
   "outputs": [],
   "source": [
    "ingredients_list = {\n",
    "    ('liquid', 'alcohol', 'sweet'): [],\n",
    "    ('liquid', 'alcohol'): [],\n",
    "    ('liquid', 'juices'): [],\n",
    "    ('liquid', 'juices', 'citric'): [],\n",
    "    ('liquid', 'syrups'): [],\n",
    "    ('solid', 'fruits'): [],\n",
    "    ('solid', 'fruits', 'citric'): [],\n",
    "    ('solid', 'veggies'): [],\n",
    "    ('te', 'sweet'): [],\n",
    "    ('te',): [],\n",
    "    ('others',): []}"
   ]
  },
  {
   "cell_type": "code",
   "execution_count": 25,
   "metadata": {},
   "outputs": [],
   "source": [
    "tree = etree.parse('ccc_cocktails.xml')\n",
    "\n",
    "recipes = tree.findall('recipe')\n",
    "# process each sentence in the file\n",
    "titles = []\n",
    "all_ingredients = []\n",
    "instances = pd.DataFrame()\n",
    "cocktails = {}\n",
    "for recipe in recipes:\n",
    "    title = recipe[0]\n",
    "    titles.append(title)\n",
    "    ingredients = recipe[1]\n",
    "    ingredients_list = {\n",
    "        ('liquid', 'alcohol', 'sweet'): [],\n",
    "        ('liquid', 'alcohol'): [],\n",
    "        ('liquid', 'juices'): [],\n",
    "        ('liquid', 'juices', 'citric'): [],\n",
    "        ('liquid', 'syrups'): [],\n",
    "        ('solid', 'fruits'): [],\n",
    "        ('solid', 'fruits', 'citric'): [],\n",
    "        ('solid', 'veggies'): [],\n",
    "        ('te', 'sweet'): [],\n",
    "        ('te',): [],\n",
    "        ('others',): []\n",
    "    }\n",
    "    for ingredient in ingredients:\n",
    "        ingredient_val = ingredient.values()[-1].lower()\n",
    "        all_ingredients.append(ingredient_val)\n",
    "        for col in taxonomy.columns:\n",
    "            col_tup = tuple(col.split('-'))\n",
    "\n",
    "            if taxonomy[col].isin([ingredient_val]).any():\n",
    "                ingredients_list[col_tup].append(ingredient_val)\n",
    "                break\n",
    "    \n",
    "    cocktails[title] = ingredients_list"
   ]
  },
  {
   "cell_type": "code",
   "execution_count": 35,
   "metadata": {},
   "outputs": [
    {
     "data": {
      "text/plain": [
       "<Element title at 0x7df29fc5c8>"
      ]
     },
     "execution_count": 35,
     "metadata": {},
     "output_type": "execute_result"
    }
   ],
   "source": [
    "recipe[0]"
   ]
  },
  {
   "cell_type": "code",
   "execution_count": null,
   "metadata": {},
   "outputs": [],
   "source": [
    "taxonomy['Fruits-citric'].isin(['grapefruit']).any()"
   ]
  },
  {
   "cell_type": "code",
   "execution_count": null,
   "metadata": {},
   "outputs": [],
   "source": [
    "len(titles), len(all_ingredients)"
   ]
  },
  {
   "cell_type": "code",
   "execution_count": null,
   "metadata": {},
   "outputs": [],
   "source": [
    "unique_ingredients = set(all_ingredients)"
   ]
  },
  {
   "cell_type": "code",
   "execution_count": null,
   "metadata": {
    "scrolled": false
   },
   "outputs": [],
   "source": [
    "len(unique_ingredients), unique_ingredients"
   ]
  },
  {
   "cell_type": "code",
   "execution_count": null,
   "metadata": {},
   "outputs": [],
   "source": [
    "words_found = []\n",
    "words_notfound = []\n",
    "for w in unique_ingredients:\n",
    "    syn = wn.synsets(w)\n",
    "    if not syn:\n",
    "        words_notfound.append(w)\n",
    "    else:\n",
    "        words_found.append(w)\n"
   ]
  },
  {
   "cell_type": "code",
   "execution_count": null,
   "metadata": {},
   "outputs": [],
   "source": [
    "len(words_notfound), len(words_found)"
   ]
  },
  {
   "cell_type": "code",
   "execution_count": null,
   "metadata": {},
   "outputs": [],
   "source": [
    "ingredient_words = []\n",
    "for ingr in all_ingredients:\n",
    "    if '_' in ingr:\n",
    "        print(ingr)\n",
    "        ingr = ingr.replace('_',' ')\n",
    "    if ingr == 'get_27':\n",
    "        ingr = 'get27'\n",
    "    elif ingr == 'manguo juice':\n",
    "        ingr = 'mango juice'\n",
    "    #elif ingr == 'cachaça':\n",
    "    #    ingr = 'cachaca'\n",
    "    ingredient_words.extend(ingr.split())"
   ]
  },
  {
   "cell_type": "code",
   "execution_count": null,
   "metadata": {},
   "outputs": [],
   "source": [
    "def w2v_get_weights(words, n_words, emb_dim, w2v_model):\n",
    "    c = 0\n",
    "    not_found = []\n",
    "    embedding_matrix = np.zeros((n_words, emb_dim))\n",
    "    for i, word in enumerate(words):\n",
    "        try:\n",
    "            embedding_vector = w2v_model.wv[word]\n",
    "        except KeyError:\n",
    "            embedding_vector = None\n",
    "        if embedding_vector is not None:\n",
    "            embedding_matrix[i] = embedding_vector\n",
    "        else:\n",
    "            c += 1\n",
    "            not_found.append(word)\n",
    "    print(c, 'were not found')\n",
    "    return embedding_matrix, not_found"
   ]
  },
  {
   "cell_type": "code",
   "execution_count": null,
   "metadata": {
    "scrolled": false
   },
   "outputs": [],
   "source": [
    "from gensim.models import KeyedVectors\n",
    "from gensim.scripts.glove2word2vec import glove2word2vec\n",
    "\n",
    "dir_folder = 'glove'\n",
    "glove_name = 'glove_42B_300d.txt'\n",
    "weights_file = path.join(dir_folder, glove_name.split('.')[0] + '.npy')\n",
    "glove_file = path.join(dir_folder, glove_name)\n",
    "emb_file = '2' + glove_name\n",
    "w2v_glove_file = path.join(dir_folder, emb_file)\n",
    "\n",
    "\n",
    "if not path.exists(w2v_glove_file):\n",
    "    glove2word2vec(glove_file, w2v_glove_file)\n",
    "\n",
    "if not path.exists(weights_file):\n",
    "    w2v_model = KeyedVectors.load_word2vec_format(w2v_glove_file, binary=False)\n",
    "    emb_weights, not_found = w2v_get_weights(ingredient_words,\n",
    "                                len(ingredient_words),\n",
    "                                300,\n",
    "                                w2v_model)\n",
    "    del w2v_model\n",
    "    np.save(path.join(dir_folder,weights_file), emb_weights)\n",
    "else:\n",
    "    emb_weights = np.load(weights_file)"
   ]
  },
  {
   "cell_type": "code",
   "execution_count": null,
   "metadata": {},
   "outputs": [],
   "source": [
    "embeddings_index = {}\n",
    "with open(path.join(dir_folder, glove_name)) as f:\n",
    "    for line in f:\n",
    "        values = line.split()\n",
    "        word = values[0]\n",
    "        coefs = np.asarray(values[1:], dtype='float32')\n",
    "        embeddings_index[word] = coefs"
   ]
  },
  {
   "cell_type": "code",
   "execution_count": null,
   "metadata": {},
   "outputs": [],
   "source": [
    "not_found"
   ]
  },
  {
   "cell_type": "code",
   "execution_count": null,
   "metadata": {},
   "outputs": [],
   "source": [
    "emb_weights.shape"
   ]
  },
  {
   "cell_type": "code",
   "execution_count": null,
   "metadata": {},
   "outputs": [],
   "source": [
    "list_alchohol=['white rum','kirsch','Cremant','cognac','champagne','vodka','martini','Noilly_Prat','Whiskey','Benedictine','pastis','rum','malibu rum','dry white wine','Porto','dark rum','White martini','Angostura bitter','pisang ambon','cava','Prosecco','Amber rum','lemon liqueur','sparkling wine','campari','vermouth','Creme de café','triple sec','white wine','red martini','plum brandy','rice wine','calvados','cachaca']\n",
    "\n",
    "list_fruits=['lemon','raspberry','citrus fruit','strawberry','kiwi fruit','orange','apricot','currant/black currant','lime','\"lime zest(outer skin of lime)\"','blood orange','pineapple apple','grapefruit','banana','litchi','berry','melon']\n",
    "\n",
    "list_veggies=['cucumbers','lime','wasabi','lemongrass','ginger','mint','tomato','coriander','guava']\n",
    "\n",
    "list_liqueur=['Lemonade','Blue curacao','syrup','passion fruit syrup','Orange juice','cointreau','grenadine','pineapple juice','coconut','lime juice','Apricot juice','Creme de cassis','apple juice','grapefruit juice','Hard cider','Cranberry juice','Banana juice','Mango juice','Passion fruit juice','rice milk','coconut milk','Tamarin juice','coffee','apple cider','apricot liqueur','worcestershire sauce','\"Currant syrup(blackcurrant juice)\"','orgeat syrup','grand marnier','litchi juice','berry juice','strawberry juice','coffee liqueur','coca-cola']\n",
    "\n",
    "list_te=['sugar','cane sugar','sour cream','tabasco sauce','light whipping cream','egg','cinnamon','nutmeg','brown sugar','anise basil','powdered sugar','granulated sugar','vanilla sugar','celery salt','pepper','milk','salt']\n",
    "\n",
    "list_others=['ice cube','sparkling water','ice cream','soda water','sparkling mineral water']\n"
   ]
  },
  {
   "cell_type": "code",
   "execution_count": null,
   "metadata": {},
   "outputs": [],
   "source": []
  },
  {
   "cell_type": "code",
   "execution_count": null,
   "metadata": {},
   "outputs": [],
   "source": [
    "len(list_alchohol), len(list_fruits), len(list_veggies), len(list_liqueur), len(list_te), len(list_others)"
   ]
  },
  {
   "cell_type": "code",
   "execution_count": null,
   "metadata": {},
   "outputs": [],
   "source": [
    "count_ingredients = Counter(all_ingredients)\n",
    "sorted(count_ingredients.items(), key=lambda pair: pair[1], reverse=True)"
   ]
  },
  {
   "cell_type": "code",
   "execution_count": null,
   "metadata": {},
   "outputs": [],
   "source": [
    "all_categories = []\n",
    "all_categories.extend(list_alchohol)\n",
    "all_categories.extend(list_liqueur)\n",
    "all_categories.extend(list_fruits)\n",
    "all_categories.extend(list_veggies)\n",
    "all_categories.extend(list_te)\n",
    "all_categories.extend(list_others)"
   ]
  },
  {
   "cell_type": "code",
   "execution_count": null,
   "metadata": {},
   "outputs": [],
   "source": [
    "len(all_categories), len(list_alchohol) + len(list_liqueur) + len(list_fruits) + len(list_veggies) + len(list_te) + len(list_others)"
   ]
  },
  {
   "cell_type": "code",
   "execution_count": null,
   "metadata": {},
   "outputs": [],
   "source": [
    "all_categories = list(map(lambda x:x.lower(), all_categories))\n",
    "for ingr in unique_ingredients:\n",
    "    if ingr not in all_categories:\n",
    "        print(ingr)"
   ]
  },
  {
   "cell_type": "code",
   "execution_count": null,
   "metadata": {},
   "outputs": [],
   "source": [
    "import pandas as pd\n",
    "categs = pd.concat([pd.Series(list_alchohol), pd.Series(list_liqueur), pd.Series(list_fruits), pd.Series(list_veggies), \n",
    "           pd.Series(list_te), pd.Series(list_others)], axis=1)\n",
    "categs.columns = ['Alcohol', 'Liqueur', 'Fruits', 'Veggies', 'Taste Enhancers', 'Others']\n",
    "categs.to_excel('Categs.xlsx')"
   ]
  }
 ],
 "metadata": {
  "kernelspec": {
   "display_name": "Python 3",
   "language": "python",
   "name": "python3"
  },
  "language_info": {
   "codemirror_mode": {
    "name": "ipython",
    "version": 3
   },
   "file_extension": ".py",
   "mimetype": "text/x-python",
   "name": "python",
   "nbconvert_exporter": "python",
   "pygments_lexer": "ipython3",
   "version": "3.7.2"
  }
 },
 "nbformat": 4,
 "nbformat_minor": 2
}
